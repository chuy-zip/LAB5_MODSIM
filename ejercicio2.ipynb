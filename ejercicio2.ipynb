{
 "cells": [
  {
   "cell_type": "markdown",
   "id": "9ca7eedb",
   "metadata": {},
   "source": [
    "# Ejercicio 2\n",
    "\n",
    "Este fue hecho a mano y los procedimientos se  encuentran en el reporte."
   ]
  }
 ],
 "metadata": {
  "language_info": {
   "name": "python"
  }
 },
 "nbformat": 4,
 "nbformat_minor": 5
}
